{
 "cells": [
  {
   "cell_type": "code",
   "execution_count": 2,
   "metadata": {},
   "outputs": [
    {
     "name": "stdout",
     "output_type": "stream",
     "text": [
      "[[ 0.  0.]\n",
      " [ 0. -1.]\n",
      " [ 1. -1.]\n",
      " [ 2. -1.]\n",
      " [ 1. -1.]\n",
      " [ 1.  0.]\n",
      " [ 1. -1.]\n",
      " [ 1.  0.]\n",
      " [ 1. -1.]\n",
      " [ 2. -1.]\n",
      " [ 2.  0.]\n",
      " [ 2.  1.]\n",
      " [ 2.  0.]\n",
      " [ 3.  0.]\n",
      " [ 2.  0.]\n",
      " [ 3.  0.]\n",
      " [ 3.  1.]\n",
      " [ 3.  0.]\n",
      " [ 2.  0.]\n",
      " [ 3.  0.]\n",
      " [ 2.  0.]\n",
      " [ 2. -1.]\n",
      " [ 2. -2.]\n",
      " [ 2. -3.]\n",
      " [ 2. -4.]\n",
      " [ 1. -4.]\n",
      " [ 0. -4.]\n",
      " [ 0. -3.]\n",
      " [ 0. -2.]\n",
      " [ 1. -2.]\n",
      " [ 2. -2.]\n",
      " [ 1. -2.]\n",
      " [ 2. -2.]\n",
      " [ 3. -2.]\n",
      " [ 3. -1.]\n",
      " [ 4. -1.]\n",
      " [ 3. -1.]\n",
      " [ 3. -2.]\n",
      " [ 3. -3.]\n",
      " [ 3. -2.]\n",
      " [ 3. -3.]\n",
      " [ 3. -4.]\n",
      " [ 3. -5.]]\n",
      "[0. 0.] [ 0. -1.]\n"
     ]
    },
    {
     "data": {
      "text/plain": [
       "[<matplotlib.lines.Line2D at 0xb2afed0>]"
      ]
     },
     "execution_count": 2,
     "metadata": {},
     "output_type": "execute_result"
    },
    {
     "data": {
      "image/png": "[encoded data removed]",
      "text/plain": [
       "<Figure size 432x288 with 1 Axes>"
      ]
     },
     "metadata": {
      "needs_background": "light"
     },
     "output_type": "display_data"
    }
   ],
   "source": [
    "from random import choice\n",
    "import numpy as np\n",
    "import matplotlib.pyplot as plt\n",
    "import matplotlib as mpl\n",
    "\n",
    "#random walk in 2 dim.\n",
    "#number of steps per random walk N\n",
    "def randomWalk(N):\n",
    "    #list with N+1(start and N steps) entries (2.dim arrays)\n",
    "    positions=np.zeros((N+1,2))\n",
    "    #right,left,up,down\n",
    "    choices=[[1,0],[-1,0],[0,1],[0,-1]]\n",
    "    for i in range(N):\n",
    "        positions[i+1]= positions[i]+choice(choices)\n",
    "    return positions\n",
    "\n",
    "a=randomWalk(42)\n",
    "print(a)\n",
    "print(a[0][:],a[1][:])\n",
    "\n",
    "#x and y values\n",
    "plt.plot(a[:,0],a[:,1])"
   ]
  },
  {
   "cell_type": "code",
   "execution_count": 21,
   "metadata": {},
   "outputs": [
    {
     "name": "stdout",
     "output_type": "stream",
     "text": [
      "End to end lenght R from 8 random walks is 6.114140013048635\n"
     ]
    },
    {
     "data": {
      "text/plain": [
       "6.114140013048635"
      ]
     },
     "execution_count": 21,
     "metadata": {},
     "output_type": "execute_result"
    }
   ],
   "source": [
    "#determine end to end lenght R\n",
    "#amount of random walks a\n",
    "def determineR(N,a):\n",
    "    R=0\n",
    "    for i in range(a):\n",
    "        endPoint=randomWalk(N)[-1]\n",
    "        r=np.sqrt(endPoint[0]**2+endPoint[1]**2)\n",
    "        R+=r/a\n",
    "    print(\"End to end lenght R from \"+str(a)+\" random walks is \"+str(R))\n",
    "    return R\n",
    "\n",
    "determineR(42,8)"
   ]
  },
  {
   "cell_type": "code",
   "execution_count": null,
   "metadata": {},
   "outputs": [],
   "source": []
  }
 ],
 "metadata": {
  "kernelspec": {
   "display_name": "Python 3",
   "language": "python",
   "name": "python3"
  },
  "language_info": {
   "codemirror_mode": {
    "name": "ipython",
    "version": 3
   },
   "file_extension": ".py",
   "mimetype": "text/x-python",
   "name": "python",
   "nbconvert_exporter": "python",
   "pygments_lexer": "ipython3",
   "version": "3.7.2"
  }
 },
 "nbformat": 4,
 "nbformat_minor": 2
}
