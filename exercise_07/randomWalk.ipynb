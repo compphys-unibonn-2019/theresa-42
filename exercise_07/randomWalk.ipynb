{
 "cells": [
  {
   "cell_type": "code",
   "execution_count": 2,
   "metadata": {},
   "outputs": [
    {
     "name": "stdout",
     "output_type": "stream",
     "text": [
      "sampling for var(X_inf) is: 0.00935386878304871\n",
      "sampling for var(X_inf) theoretical is: 0.009259259259259255\n",
      "sampling for covariance is: 0.0021231366458233647\n",
      "sampling for cov theoretical is: 0.0018564058144735667\n",
      "integradted autocorrelation time theoretical is: 4.500000000000001\n",
      "compare 8.352974900243093e-05 with 8.418481904743841e-05\n"
     ]
    }
   ],
   "source": [
    "import numpy as np\n",
    "import matplotlib.pyplot as plt\n",
    "from random import random\n",
    "from scipy.optimize import curve_fit\n",
    "\n",
    "#implement sampling\n",
    "#start value X0\n",
    "def randomWalk(n,a,x0):\n",
    "    x=[x0]\n",
    "    for _ in range(n):\n",
    "        x.append(a*x[-1]+(1-a)*random())\n",
    "    return x\n",
    "\n",
    "#estimation Var(X.infty)\n",
    "a=0.8\n",
    "varXinf=np.var([randomWalk(1000,a,0)[-1] for _ in range(1000)])\n",
    "print('sampling for var(X_inf) is: '+str(varXinf))\n",
    "print('sampling for var(X_inf) theoretical is: ' +str(1/12*((1-a)/(1+a))))\n",
    "\n",
    "#estimation covariance\n",
    "#n stands for infinity\n",
    "def covariance(m,n,a):\n",
    "    #1000 is number of random walks used for estimation\n",
    "    r=[randomWalk(n,a,0) for _ in range(1000)]\n",
    "    r=np.array(r)\n",
    "    meanM=np.average(r[:,m])\n",
    "    meanN=np.average(r[:,n])\n",
    "    P=[]\n",
    "    for i in range(1000):\n",
    "        P.append(r[i,m]*r[i,n])\n",
    "    meanP=np.average(P)\n",
    "    #return np.cov(r[:,m], r[:,n])[0][1]\n",
    "    return meanP-(meanN*meanM)\n",
    "print('sampling for covariance is: '+str(covariance(9993,10000,a)))\n",
    "print('sampling for cov theoretical is: '+str(1/12*((1-a)/(1+a))*(1-a**(2*7))*a**(10000-9993)))\n",
    "\n",
    "#integrated autocorrelation time\n",
    "def t(a):\n",
    "    return (1+a)/(1-a)/2\n",
    "print('integradted autocorrelation time theoretical is: '+str(t(a)))\n",
    "\n",
    "#var from estimator X\n",
    "varXbar_n=np.var([np.average(randomWalk(1000,a,0)) for _ in range (1000)])\n",
    "varXbar_right=2*varXinf*t(a)/1000\n",
    "print('compare ' +str(varXbar_n)+' with '+str(varXbar_right))"
   ]
  },
  {
   "cell_type": "code",
   "execution_count": null,
   "metadata": {},
   "outputs": [],
   "source": []
  }
 ],
 "metadata": {
  "kernelspec": {
   "display_name": "Python 3",
   "language": "python",
   "name": "python3"
  },
  "language_info": {
   "codemirror_mode": {
    "name": "ipython",
    "version": 3
   },
   "file_extension": ".py",
   "mimetype": "text/x-python",
   "name": "python",
   "nbconvert_exporter": "python",
   "pygments_lexer": "ipython3",
   "version": "3.7.2"
  }
 },
 "nbformat": 4,
 "nbformat_minor": 2
}
