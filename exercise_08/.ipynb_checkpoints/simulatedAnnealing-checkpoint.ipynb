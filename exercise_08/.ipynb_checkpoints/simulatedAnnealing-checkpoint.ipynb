{
 "cells": [
  {
   "cell_type": "code",
   "execution_count": 18,
   "metadata": {},
   "outputs": [
    {
     "data": {
      "image/png": "[encoded data removed]",
      "text/plain": [
       "<Figure size 432x288 with 1 Axes>"
      ]
     },
     "metadata": {
      "needs_background": "light"
     },
     "output_type": "display_data"
    },
    {
     "name": "stdout",
     "output_type": "stream",
     "text": [
      "optimize width_best chsq value for width from 1 to 20 :\n",
      "[245.86098342217224, 0.5233054723895946, 0.5231998952391511, 0.5240294843818971, 0.524282181340162]\n"
     ]
    }
   ],
   "source": [
    "import numpy as np\n",
    "import matplotlib.pyplot as plt\n",
    "from random import random\n",
    "from scipy.optimize import curve_fit\n",
    "\n",
    "#parameter a and b, x-value are t, y-values are x\n",
    "def chsq(x,y,yerr,a,b):\n",
    "    return np.sum((a*x+b-y)**2/(yerr)**2)\n",
    "    \n",
    "x=np.array([1.0,2.0,3.0])\n",
    "y=np.array([0.94,1.95,3.15])\n",
    "yerr=np.array([0.11,0.10,0.13])\n",
    "\n",
    "#here chsq is our h which should be mnimized\n",
    "chsq(x,y,yerr,1,1)\n",
    "\n",
    "#want to find out parameter a and b\n",
    "def simAnn(a0,b0,t0,m,n,width,alpha):\n",
    "    a=[a0]\n",
    "    b=[b0]\n",
    "    t=t0\n",
    "    best=[a0,b0,chsq(x,y,yerr,a0,b0)]\n",
    "    for j in range(1,m+1):\n",
    "        for i in range(1,n+1):\n",
    "            #gaussian distribution around mean a or b\n",
    "            e1=np.random.normal(a[-1],width)\n",
    "            e2=np.random.normal(b[-1],width)\n",
    "            c=chsq(x,y,yerr,e1,e2)\n",
    "            deltaH=c-chsq(x,y,yerr,a[-1],b[-1])\n",
    "            if random() <= min(1,np.exp(-deltaH/t)):\n",
    "                a.append(e1)\n",
    "                b.append(e2)\n",
    "                if c < best[2]:\n",
    "                    best=[e1,e2,c]\n",
    "            else:\n",
    "                a.append(a[-1])\n",
    "                b.append(b[-1])\n",
    "        #update t\n",
    "        t=t0*alpha**j\n",
    "    return best\n",
    "                               \n",
    "s=simAnn(1,1,70,100,100,1,0.9)\n",
    "\n",
    "#check if is good\n",
    "plt.errorbar(x,y,yerr=yerr)\n",
    "plt.plot(np.arange(5),s[0]*np.arange(5)+s[1])\n",
    "plt.show()\n",
    "\n",
    "#optimize width, whats the best chsq for given width\n",
    "#width=0.4 seems to be optimal\n",
    "best=[]\n",
    "for width in np.arange(0,1,0.2):\n",
    "    currentBestChsq=1000\n",
    "    for run in range(10):\n",
    "        a,b,c=simAnn(1,1,70,100,100,width,0.9)\n",
    "        if c <= currentBestChsq:\n",
    "            currentBestChsq=c\n",
    "    best.append(currentBestChsq)\n",
    "print('optimize width_best chsq value for width from 1 to 20 :')\n",
    "print(best)"
   ]
  },
  {
   "cell_type": "code",
   "execution_count": 22,
   "metadata": {},
   "outputs": [
    {
     "name": "stdout",
     "output_type": "stream",
     "text": [
      "optimize iterations m,n from 10 to 90 :\n",
      "[[0.6815515716187082, 0.5263389772909173, 0.5255994825201828, 0.5658876742548923, 0.5380279904082317], [0.535747067733963, 0.5240454977459766, 0.5257446042573186, 0.5287532155100557, 0.5241015335177668], [0.524139674355614, 0.5310873114277241, 0.524642933535624, 0.5235437425017067, 0.5235749229627336], [0.5280309258659942, 0.5249315300468812, 0.5246180534623677, 0.5242259790864159, 0.5232316826443179], [0.5308510039793426, 0.5274934027842353, 0.5233029735890382, 0.5239638096223753, 0.5245064717001044]]\n"
     ]
    }
   ],
   "source": [
    "#optimize iterations m,n\n",
    "#take m=n=30\n",
    "best=[]\n",
    "for m in range(10,100,20):\n",
    "    line=[]\n",
    "    for n in range(10,100,20):\n",
    "        currentBestChsq=1000\n",
    "        for run in range(10):\n",
    "            a,b,c=simAnn(1,1,70,m,n,0.4,0.9)\n",
    "            if c <= currentBestChsq:\n",
    "                currentBestChsq=c\n",
    "        line.append(currentBestChsq)\n",
    "    best.append(line)\n",
    "print('optimize iterations m,n from 10 to 90 :')\n",
    "print(best)"
   ]
  },
  {
   "cell_type": "code",
   "execution_count": 26,
   "metadata": {},
   "outputs": [
    {
     "name": "stderr",
     "output_type": "stream",
     "text": [
      "c:\\users\\tgees\\appdata\\local\\programs\\python\\python37-32\\lib\\site-packages\\ipykernel_launcher.py:30: RuntimeWarning: overflow encountered in exp\n"
     ]
    },
    {
     "name": "stdout",
     "output_type": "stream",
     "text": [
      "optimize alpha value for width from 0.65 to 0.95 :\n",
      "[0.5233376338276405, 0.523721434270578, 0.5254007445896162, 0.5238478119109798]\n"
     ]
    }
   ],
   "source": [
    "#optimize alpha to reduce the temperature\n",
    "best=[]\n",
    "for alpha in np.arange(0.65,1,0.1):\n",
    "    currentBestChsq=1000\n",
    "    for run in range(100):\n",
    "        a,b,c=simAnn(1,1,70,30,30,0.4,alpha)\n",
    "        if c <= currentBestChsq:\n",
    "            currentBestChsq=c\n",
    "    best.append(currentBestChsq)\n",
    "print('optimize alpha value for width from 0.65 to 0.95 :')\n",
    "print(best)"
   ]
  },
  {
   "cell_type": "code",
   "execution_count": null,
   "metadata": {},
   "outputs": [],
   "source": []
  }
 ],
 "metadata": {
  "kernelspec": {
   "display_name": "Python 3",
   "language": "python",
   "name": "python3"
  },
  "language_info": {
   "codemirror_mode": {
    "name": "ipython",
    "version": 3
   },
   "file_extension": ".py",
   "mimetype": "text/x-python",
   "name": "python",
   "nbconvert_exporter": "python",
   "pygments_lexer": "ipython3",
   "version": "3.7.2"
  }
 },
 "nbformat": 4,
 "nbformat_minor": 2
}
