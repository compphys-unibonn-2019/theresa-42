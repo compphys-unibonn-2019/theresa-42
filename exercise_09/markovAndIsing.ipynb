{
 "cells": [
  {
   "cell_type": "code",
   "execution_count": 59,
   "metadata": {},
   "outputs": [
    {
     "name": "stdout",
     "output_type": "stream",
     "text": [
      "grenzwert;  1.5997600359946011\n",
      "analytic:  1.6\n",
      "random walk: 1.600048\n"
     ]
    }
   ],
   "source": [
    "import numpy as np\n",
    "import matplotlib.pyplot as plt\n",
    "from random import random\n",
    "\n",
    "#task 1: simple markov chain\n",
    "#limiting cases: alpha and beta goes to 0, a not equal to 0\n",
    "\n",
    "#estimate return time tau repeated transinstion matrix\n",
    "#convergence criterion: ???\n",
    "\n",
    "#sum up the series, check for convergence\n",
    "def pi1(a,b,n):\n",
    "    P=np.array([[1-a,a],[b,1-b]])\n",
    "    #helping variable, P^m\n",
    "    P2=P\n",
    "    #first summand\n",
    "    T=P[0,0]\n",
    "    #other summands\n",
    "    for _ in range(n-1):\n",
    "        #mew potence\n",
    "        P2=P2.dot(P)\n",
    "        T+=P2[0,0]\n",
    "    return T/n\n",
    "\n",
    "tau1=1/pi1(0.3,0.5,1000)\n",
    "print('grenzwert; ',tau1)\n",
    "\n",
    "def tau1(a,b):\n",
    "    return (a+b)/b\n",
    "\n",
    "print('analytic: ',tau1(0.3,0.5))\n",
    "\n",
    "#by random walk\n",
    "def randomWalk(a,b,N):\n",
    "    T=0\n",
    "    M=np.array([[1-a,a],[b,1-b]])\n",
    "    for _ in range(N):\n",
    "        #z:state ,t:number of steps to return to state0\n",
    "        z=0\n",
    "        t=0\n",
    "        while(True):\n",
    "            t+=1\n",
    "            #M[z,z] prob. to stay\n",
    "            if random()>M[z,z]:\n",
    "                #switch bw states 0 and 1\n",
    "                z=1-z\n",
    "            #if return in state 0\n",
    "            if z==0:\n",
    "                break\n",
    "        T+=t\n",
    "    return T/N\n",
    "\n",
    "print('random walk:',randomWalk(0.3,0.5,1000000))"
   ]
  },
  {
   "cell_type": "code",
   "execution_count": 44,
   "metadata": {},
   "outputs": [
    {
     "name": "stdout",
     "output_type": "stream",
     "text": [
      "H for values given is:  -5\n",
      "delta H for given values is:  2\n",
      "new H for values given is:  -7\n"
     ]
    }
   ],
   "source": [
    "#task 2: Ising model\n",
    "#compute H for given spin configuration\n",
    "\n",
    "#first part\n",
    "#N is NxN lattice\n",
    "def H(h,J,N,s):\n",
    "    if len(s)!=N*N:\n",
    "        print('wrong s')\n",
    "        return\n",
    "    summ=0\n",
    "    for i in range(N*N):\n",
    "        #upper neighbor\n",
    "        summ+=s[i]*s[i-N]\n",
    "        #left neighbor, spcial case\n",
    "        if i % N:\n",
    "            summ+=s[i]*s[i-1]\n",
    "        else:\n",
    "            summ+=s[i]*s[i+N-1]\n",
    "    return -J*summ-h*np.sum(s)\n",
    "\n",
    "spin=[-1,1]\n",
    "N=5\n",
    "J=1\n",
    "h=1\n",
    "s=np.random.choice(spin,N*N)\n",
    "print('H for values given is: ',H(h,J,N,s))\n",
    "\n",
    "#second part\n",
    "#j is the index whoch changes \n",
    "def deltaH(h,J,N,s,j):\n",
    "    #upper\n",
    "    summ=s[j-N]\n",
    "    #left, special cases\n",
    "    if j % N:\n",
    "        summ+=s[j-1]\n",
    "    else:\n",
    "        summ+=s[j+N-1]\n",
    "    #right,special cases\n",
    "    if j%N==N-1:\n",
    "        summ+=s[j-N+1]\n",
    "    else:\n",
    "        summ+=s[j+1]\n",
    "    #down\n",
    "    summ+=s[(j+N)%(N*N)]\n",
    "    return -2*J*s[j]*summ-2*h*s[j]\n",
    "print ('delta H for given values is: ',deltaH(h,J,N,s,3))\n",
    "\n",
    "#print(s)\n",
    "#check correctness\n",
    "s[3]*=-1\n",
    "print('new H for values given is: ',H(h,J,N,s))"
   ]
  },
  {
   "cell_type": "code",
   "execution_count": null,
   "metadata": {},
   "outputs": [],
   "source": []
  }
 ],
 "metadata": {
  "kernelspec": {
   "display_name": "Python 3",
   "language": "python",
   "name": "python3"
  },
  "language_info": {
   "codemirror_mode": {
    "name": "ipython",
    "version": 3
   },
   "file_extension": ".py",
   "mimetype": "text/x-python",
   "name": "python",
   "nbconvert_exporter": "python",
   "pygments_lexer": "ipython3",
   "version": "3.7.2"
  }
 },
 "nbformat": 4,
 "nbformat_minor": 2
}
