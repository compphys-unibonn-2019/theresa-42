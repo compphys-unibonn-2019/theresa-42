{
 "cells": [
  {
   "cell_type": "code",
   "execution_count": null,
   "metadata": {},
   "outputs": [],
   "source": [
    "import numpy as np\n",
    "import matplotlib.pyplot as plt\n",
    "from random import random\n",
    "\n",
    "#task 2: Ising model\n",
    "#compute H for given spin configuration\n",
    "\n",
    "#first part\n",
    "#N is NxN lattice\n",
    "def H(h,J,N,s):\n",
    "    if len(s)!=N*N:\n",
    "        print('wrong s')\n",
    "        return\n",
    "    summ=0\n",
    "    for i in range(N*N):\n",
    "        #upper neighbor\n",
    "        summ+=s[i]*s[i-N]\n",
    "        #left neighbor, spcial case\n",
    "        if i % N:\n",
    "            summ+=s[i]*s[i-1]\n",
    "        else:\n",
    "            summ+=s[i]*s[i+N-1]\n",
    "    return -J*summ-h*np.sum(s)\n",
    "\n",
    "spin=[-1,1]\n",
    "N=5\n",
    "J=1\n",
    "h=1\n",
    "s=np.random.choice(spin,N*N)\n",
    "print('H for values given is: ',H(h,J,N,s))\n",
    "\n",
    "#second part\n",
    "#j is the index whoch changes \n",
    "def deltaH(h,J,N,s,j):\n",
    "    #upper\n",
    "    summ=s[j-N]\n",
    "    #left, special cases\n",
    "    if j % N:\n",
    "        summ+=s[j-1]\n",
    "    else:\n",
    "        summ+=s[j+N-1]\n",
    "    #right,special cases\n",
    "    if j%N==N-1:\n",
    "        summ+=s[j-N+1]\n",
    "    else:\n",
    "        summ+=s[j+1]\n",
    "    #down\n",
    "    summ+=s[(j+N)%(N*N)]\n",
    "    return -2*J*s[j]*summ-2*h*s[j]\n",
    "print ('delta H for given values is: ',deltaH(h,J,N,s,3))\n",
    "\n",
    "#print(s)\n",
    "#check correctness\n",
    "s[3]*=-1\n",
    "print('new H for values given is: ',H(h,J,N,s))"
   ]
  }
 ],
 "metadata": {
  "kernelspec": {
   "display_name": "Python 3",
   "language": "python",
   "name": "python3"
  },
  "language_info": {
   "codemirror_mode": {
    "name": "ipython",
    "version": 3
   },
   "file_extension": ".py",
   "mimetype": "text/x-python",
   "name": "python",
   "nbconvert_exporter": "python",
   "pygments_lexer": "ipython3",
   "version": "3.7.2"
  }
 },
 "nbformat": 4,
 "nbformat_minor": 2
}
