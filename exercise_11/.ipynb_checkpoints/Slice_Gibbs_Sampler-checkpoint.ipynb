{
 "cells": [
  {
   "cell_type": "code",
   "execution_count": 52,
   "metadata": {},
   "outputs": [
    {
     "data": {
      "image/png": "[encoded data removed]",
      "text/plain": [
       "<Figure size 432x288 with 1 Axes>"
      ]
     },
     "metadata": {
      "needs_background": "light"
     },
     "output_type": "display_data"
    },
    {
     "data": {
      "text/plain": [
       "[<matplotlib.lines.Line2D at 0x12fd14f0>]"
      ]
     },
     "execution_count": 52,
     "metadata": {},
     "output_type": "execute_result"
    },
    {
     "data": {
      "image/png": "[encoded data removed]",
      "text/plain": [
       "<Figure size 432x288 with 1 Axes>"
      ]
     },
     "metadata": {
      "needs_background": "light"
     },
     "output_type": "display_data"
    }
   ],
   "source": [
    "#1) Slice Sampler\n",
    "import numpy as np\n",
    "import matplotlib.pyplot as plt\n",
    "from random import random\n",
    "\n",
    "#N how many samples should be generated\n",
    "def slice(x,N,d):\n",
    "    samples=[]\n",
    "    for _ in range(N):\n",
    "        U=random()*np.exp(-x**(1/d))/2\n",
    "        x=random()*(-np.log(2*U))**d\n",
    "        samples.append(x)\n",
    "    return samples\n",
    "\n",
    "d=2\n",
    "plt.hist(slice(0,10000,d),bins=1000,density=True)\n",
    "#a,h=np.histogram(slice(0,10000,d),bins=1000)\n",
    "#plt.plot((h[:-1]+h[1:])/2,a/10000)\n",
    "plt.show()\n",
    "plt.plot(np.exp(-np.arange(50)**(1/d))/2)"
   ]
  },
  {
   "cell_type": "code",
   "execution_count": 60,
   "metadata": {},
   "outputs": [
    {
     "name": "stdout",
     "output_type": "stream",
     "text": [
      "[1 0 0 1 0 0 0 0 1 0 0 0 1 0 0 0 0 0 0 0 0 1 0 0 1]\n"
     ]
    }
   ],
   "source": [
    "#2) instead of accapt one spim flip accept whole new grid\n",
    "\n",
    "def Hval(h,J,N,s):\n",
    "    if len(s)!=N*N:\n",
    "        print('wrong s')\n",
    "        return\n",
    "    summ=0\n",
    "    for i in range(N*N):\n",
    "        #upper neighbor\n",
    "        summ+=s[i]*s[i-N]\n",
    "        #left neighbor, spcial case\n",
    "        if i % N:\n",
    "            summ+=s[i]*s[i-1]\n",
    "        else:\n",
    "            summ+=s[i]*s[i+N-1]\n",
    "    return -J*summ-h*np.sum(s)\n",
    "\n",
    "#nxN grid, case=s_j: spin up or down, s:input\n",
    "def fj(H,J,N,s,j,case=0):\n",
    "    #upper\n",
    "    summ=s[j-N]\n",
    "    #left, special cases\n",
    "    if j % N:\n",
    "        summ+=s[j-1]\n",
    "    else:\n",
    "        summ+=s[j+N-1]\n",
    "    #right,special cases\n",
    "    if j%N==N-1:\n",
    "        summ+=s[j-N+1]\n",
    "    else:\n",
    "        summ+=s[j+1]\n",
    "    #down\n",
    "    summ+=s[(j+N)%(N*N)]\n",
    "    hilf=-H-J*summ\n",
    "    return np.exp(case*hilf)/(np.exp(hilf)+np.exp(-hilf))\n",
    "\n",
    "def gibbs(H,J,N,s):\n",
    "    for j in range(N**2):\n",
    "        zero=fj(H,J,N,s,j)\n",
    "        one=fj(H,J,N,s,j,1)\n",
    "        if random()*(zero+one)<=zero:\n",
    "            s[j]=0\n",
    "        else:\n",
    "            s[j]=1\n",
    "    return s       \n",
    "    \n",
    "spin=[-1,1]\n",
    "N=5\n",
    "J=1\n",
    "H=1\n",
    "s=np.random.choice(spin,N*N)\n",
    "print(gibbs(H,J,N,s))\n",
    "\n",
    "def randomGibbs(H,J,s,T,I):\n",
    "    c=0\n",
    "    currHval=Hval(H,J,N,s)\n",
    "    for _ in range(I):\n",
    "        s2=gibbs(H,J,N,s)\n",
    "        newHval=Hval(H,J,N,s2)\n",
    "        #step 3, exept/reject\n",
    "        p=min(1,np.exp(-(currHval-newHval)/T))\n",
    "        #print(p)\n",
    "        if random()<=p:\n",
    "            c+=1\n",
    "            #if execpted flip index j\n",
    "            s=s2\n",
    "            currHval=newHval\n",
    "    return s,c\n",
    "\n"
   ]
  },
  {
   "cell_type": "code",
   "execution_count": 66,
   "metadata": {},
   "outputs": [],
   "source": [
    "#2) Metropolis with counter\n",
    "def deltaH(h,J,N,s,j):\n",
    "    #upper\n",
    "    summ=s[j-N]\n",
    "    #left, special cases\n",
    "    if j % N:\n",
    "        summ+=s[j-1]\n",
    "    else:\n",
    "        summ+=s[j+N-1]\n",
    "    #right,special cases\n",
    "    if j%N==N-1:\n",
    "        summ+=s[j-N+1]\n",
    "    else:\n",
    "        summ+=s[j+1]\n",
    "    #down\n",
    "    summ+=s[(j+N)%(N*N)]\n",
    "    return -2*J*s[j]*summ-2*h*s[j]\n",
    "#print ('delta H for given values is: ',deltaH(h,J,N,s,3))\n",
    "\n",
    "\n",
    "def randomIsing(h,J,s,T,I):\n",
    "    c=0\n",
    "    for _ in range(I):\n",
    "        #which index should be flipped\n",
    "        #random.randint(a) gives an integer from 0 to (a-1) uniformly distributed\n",
    "        j=np.random.randint(len(s))\n",
    "        #step 3, exept/reject\n",
    "        p=min(1,np.exp(-deltaH(h,J,int(np.sqrt(len(s))),s,j)/T))\n",
    "        #print(p)\n",
    "        if random()<=p:\n",
    "            c+=1\n",
    "            #if execpted flip index j\n",
    "            s[j]*=-1\n",
    "    return s,c\n",
    "\n"
   ]
  },
  {
   "cell_type": "code",
   "execution_count": 65,
   "metadata": {},
   "outputs": [
    {
     "name": "stdout",
     "output_type": "stream",
     "text": [
      "Gibbs accepted 64 times new grid\n",
      "Ising accepted 97 times spin flips\n"
     ]
    }
   ],
   "source": [
    "#acceptance rate compared for gibbs and metropolis algo\n",
    "s=np.random.choice(spin,N*N)\n",
    "sG,cG=randomGibbs(H,J,s,3,100)\n",
    "sI,cI=randomIsing(H,J,s,3,100)\n",
    "print(\"Gibbs accepted\",cG,\"times new grid\")#,Hval(H,J,N,sG))\n",
    "print(\"Ising accepted\",cI,\"times spin flips\")#,Hval(H,J,N,sI))"
   ]
  },
  {
   "cell_type": "code",
   "execution_count": null,
   "metadata": {},
   "outputs": [],
   "source": []
  }
 ],
 "metadata": {
  "kernelspec": {
   "display_name": "Python 3",
   "language": "python",
   "name": "python3"
  },
  "language_info": {
   "codemirror_mode": {
    "name": "ipython",
    "version": 3
   },
   "file_extension": ".py",
   "mimetype": "text/x-python",
   "name": "python",
   "nbconvert_exporter": "python",
   "pygments_lexer": "ipython3",
   "version": "3.7.2"
  }
 },
 "nbformat": 4,
 "nbformat_minor": 2
}
